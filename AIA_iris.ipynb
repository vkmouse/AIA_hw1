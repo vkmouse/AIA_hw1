{
 "cells": [
  {
   "cell_type": "code",
   "execution_count": 1,
   "metadata": {},
   "outputs": [],
   "source": [
    "import pandas as pd\n",
    "import numpy as np\n",
    "import matplotlib.pyplot as plt"
   ]
  },
  {
   "cell_type": "markdown",
   "metadata": {},
   "source": [
    "# 載入資料集"
   ]
  },
  {
   "cell_type": "code",
   "execution_count": 2,
   "metadata": {},
   "outputs": [],
   "source": [
    "# Load in the train datasets\n",
    "train = pd.read_csv('Data/train.csv', encoding = \"utf-8\", dtype = {'type': np.int32})\n",
    "test = pd.read_csv('Data/test.csv', encoding = \"utf-8\")\n",
    "submission = pd.read_csv('Data/submission.csv', encoding = \"utf-8\", dtype = {'type': np.int32})"
   ]
  },
  {
   "cell_type": "markdown",
   "metadata": {},
   "source": [
    "### 觀看個資料格式\n",
    "可以得知目的是用四個特徵進行分類，輸出結果為每筆資料對應的類別"
   ]
  },
  {
   "cell_type": "code",
   "execution_count": 3,
   "metadata": {
    "scrolled": true
   },
   "outputs": [
    {
     "data": {
      "text/html": [
       "<div>\n",
       "<style scoped>\n",
       "    .dataframe tbody tr th:only-of-type {\n",
       "        vertical-align: middle;\n",
       "    }\n",
       "\n",
       "    .dataframe tbody tr th {\n",
       "        vertical-align: top;\n",
       "    }\n",
       "\n",
       "    .dataframe thead th {\n",
       "        text-align: right;\n",
       "    }\n",
       "</style>\n",
       "<table border=\"1\" class=\"dataframe\">\n",
       "  <thead>\n",
       "    <tr style=\"text-align: right;\">\n",
       "      <th></th>\n",
       "      <th>id</th>\n",
       "      <th>花萼長度</th>\n",
       "      <th>花萼寬度</th>\n",
       "      <th>花瓣長度</th>\n",
       "      <th>花瓣寬度</th>\n",
       "      <th>屬種</th>\n",
       "      <th>type</th>\n",
       "    </tr>\n",
       "  </thead>\n",
       "  <tbody>\n",
       "    <tr>\n",
       "      <th>0</th>\n",
       "      <td>1</td>\n",
       "      <td>5.4</td>\n",
       "      <td>3.7</td>\n",
       "      <td>1.5</td>\n",
       "      <td>0.2</td>\n",
       "      <td>Iris-setosa</td>\n",
       "      <td>1</td>\n",
       "    </tr>\n",
       "    <tr>\n",
       "      <th>1</th>\n",
       "      <td>2</td>\n",
       "      <td>4.8</td>\n",
       "      <td>3.4</td>\n",
       "      <td>1.6</td>\n",
       "      <td>0.2</td>\n",
       "      <td>Iris-setosa</td>\n",
       "      <td>1</td>\n",
       "    </tr>\n",
       "    <tr>\n",
       "      <th>2</th>\n",
       "      <td>3</td>\n",
       "      <td>4.8</td>\n",
       "      <td>3.0</td>\n",
       "      <td>1.4</td>\n",
       "      <td>0.1</td>\n",
       "      <td>Iris-setosa</td>\n",
       "      <td>1</td>\n",
       "    </tr>\n",
       "    <tr>\n",
       "      <th>3</th>\n",
       "      <td>4</td>\n",
       "      <td>4.3</td>\n",
       "      <td>3.0</td>\n",
       "      <td>1.1</td>\n",
       "      <td>0.1</td>\n",
       "      <td>Iris-setosa</td>\n",
       "      <td>1</td>\n",
       "    </tr>\n",
       "    <tr>\n",
       "      <th>4</th>\n",
       "      <td>5</td>\n",
       "      <td>5.8</td>\n",
       "      <td>4.0</td>\n",
       "      <td>1.2</td>\n",
       "      <td>0.2</td>\n",
       "      <td>Iris-setosa</td>\n",
       "      <td>1</td>\n",
       "    </tr>\n",
       "  </tbody>\n",
       "</table>\n",
       "</div>"
      ],
      "text/plain": [
       "   id  花萼長度  花萼寬度  花瓣長度  花瓣寬度           屬種  type\n",
       "0   1   5.4   3.7   1.5   0.2  Iris-setosa     1\n",
       "1   2   4.8   3.4   1.6   0.2  Iris-setosa     1\n",
       "2   3   4.8   3.0   1.4   0.1  Iris-setosa     1\n",
       "3   4   4.3   3.0   1.1   0.1  Iris-setosa     1\n",
       "4   5   5.8   4.0   1.2   0.2  Iris-setosa     1"
      ]
     },
     "execution_count": 3,
     "metadata": {},
     "output_type": "execute_result"
    }
   ],
   "source": [
    "train.head()"
   ]
  },
  {
   "cell_type": "code",
   "execution_count": 4,
   "metadata": {},
   "outputs": [
    {
     "data": {
      "text/html": [
       "<div>\n",
       "<style scoped>\n",
       "    .dataframe tbody tr th:only-of-type {\n",
       "        vertical-align: middle;\n",
       "    }\n",
       "\n",
       "    .dataframe tbody tr th {\n",
       "        vertical-align: top;\n",
       "    }\n",
       "\n",
       "    .dataframe thead th {\n",
       "        text-align: right;\n",
       "    }\n",
       "</style>\n",
       "<table border=\"1\" class=\"dataframe\">\n",
       "  <thead>\n",
       "    <tr style=\"text-align: right;\">\n",
       "      <th></th>\n",
       "      <th>id</th>\n",
       "      <th>花萼長度</th>\n",
       "      <th>花萼寬度</th>\n",
       "      <th>花瓣長度</th>\n",
       "      <th>花瓣寬度</th>\n",
       "    </tr>\n",
       "  </thead>\n",
       "  <tbody>\n",
       "    <tr>\n",
       "      <th>0</th>\n",
       "      <td>1</td>\n",
       "      <td>5.1</td>\n",
       "      <td>3.5</td>\n",
       "      <td>1.4</td>\n",
       "      <td>0.2</td>\n",
       "    </tr>\n",
       "    <tr>\n",
       "      <th>1</th>\n",
       "      <td>2</td>\n",
       "      <td>4.9</td>\n",
       "      <td>3.0</td>\n",
       "      <td>1.4</td>\n",
       "      <td>0.2</td>\n",
       "    </tr>\n",
       "    <tr>\n",
       "      <th>2</th>\n",
       "      <td>3</td>\n",
       "      <td>4.7</td>\n",
       "      <td>3.2</td>\n",
       "      <td>1.3</td>\n",
       "      <td>0.2</td>\n",
       "    </tr>\n",
       "    <tr>\n",
       "      <th>3</th>\n",
       "      <td>4</td>\n",
       "      <td>4.6</td>\n",
       "      <td>3.1</td>\n",
       "      <td>1.5</td>\n",
       "      <td>0.2</td>\n",
       "    </tr>\n",
       "    <tr>\n",
       "      <th>4</th>\n",
       "      <td>5</td>\n",
       "      <td>5.0</td>\n",
       "      <td>3.6</td>\n",
       "      <td>1.4</td>\n",
       "      <td>0.2</td>\n",
       "    </tr>\n",
       "  </tbody>\n",
       "</table>\n",
       "</div>"
      ],
      "text/plain": [
       "   id  花萼長度  花萼寬度  花瓣長度  花瓣寬度\n",
       "0   1   5.1   3.5   1.4   0.2\n",
       "1   2   4.9   3.0   1.4   0.2\n",
       "2   3   4.7   3.2   1.3   0.2\n",
       "3   4   4.6   3.1   1.5   0.2\n",
       "4   5   5.0   3.6   1.4   0.2"
      ]
     },
     "execution_count": 4,
     "metadata": {},
     "output_type": "execute_result"
    }
   ],
   "source": [
    "test.head()"
   ]
  },
  {
   "cell_type": "code",
   "execution_count": 5,
   "metadata": {},
   "outputs": [
    {
     "data": {
      "text/html": [
       "<div>\n",
       "<style scoped>\n",
       "    .dataframe tbody tr th:only-of-type {\n",
       "        vertical-align: middle;\n",
       "    }\n",
       "\n",
       "    .dataframe tbody tr th {\n",
       "        vertical-align: top;\n",
       "    }\n",
       "\n",
       "    .dataframe thead th {\n",
       "        text-align: right;\n",
       "    }\n",
       "</style>\n",
       "<table border=\"1\" class=\"dataframe\">\n",
       "  <thead>\n",
       "    <tr style=\"text-align: right;\">\n",
       "      <th></th>\n",
       "      <th>id</th>\n",
       "      <th>type</th>\n",
       "    </tr>\n",
       "  </thead>\n",
       "  <tbody>\n",
       "    <tr>\n",
       "      <th>0</th>\n",
       "      <td>1</td>\n",
       "      <td>0</td>\n",
       "    </tr>\n",
       "    <tr>\n",
       "      <th>1</th>\n",
       "      <td>2</td>\n",
       "      <td>0</td>\n",
       "    </tr>\n",
       "    <tr>\n",
       "      <th>2</th>\n",
       "      <td>3</td>\n",
       "      <td>0</td>\n",
       "    </tr>\n",
       "    <tr>\n",
       "      <th>3</th>\n",
       "      <td>4</td>\n",
       "      <td>0</td>\n",
       "    </tr>\n",
       "    <tr>\n",
       "      <th>4</th>\n",
       "      <td>5</td>\n",
       "      <td>0</td>\n",
       "    </tr>\n",
       "  </tbody>\n",
       "</table>\n",
       "</div>"
      ],
      "text/plain": [
       "   id  type\n",
       "0   1     0\n",
       "1   2     0\n",
       "2   3     0\n",
       "3   4     0\n",
       "4   5     0"
      ]
     },
     "execution_count": 5,
     "metadata": {},
     "output_type": "execute_result"
    }
   ],
   "source": [
    "submission.head()"
   ]
  },
  {
   "cell_type": "markdown",
   "metadata": {},
   "source": [
    "# Data clean - 缺值處理"
   ]
  },
  {
   "cell_type": "code",
   "execution_count": 6,
   "metadata": {},
   "outputs": [
    {
     "data": {
      "text/plain": [
       "花萼寬度    1\n",
       "花萼長度    1\n",
       "type    0\n",
       "屬種      0\n",
       "花瓣寬度    0\n",
       "花瓣長度    0\n",
       "id      0\n",
       "dtype: int64"
      ]
     },
     "execution_count": 6,
     "metadata": {},
     "output_type": "execute_result"
    }
   ],
   "source": [
    "#missing data\n",
    "miss_sum = train.isnull().sum().sort_values(ascending=False)\n",
    "miss_sum"
   ]
  },
  {
   "cell_type": "code",
   "execution_count": 7,
   "metadata": {},
   "outputs": [
    {
     "data": {
      "text/html": [
       "<div>\n",
       "<style scoped>\n",
       "    .dataframe tbody tr th:only-of-type {\n",
       "        vertical-align: middle;\n",
       "    }\n",
       "\n",
       "    .dataframe tbody tr th {\n",
       "        vertical-align: top;\n",
       "    }\n",
       "\n",
       "    .dataframe thead th {\n",
       "        text-align: right;\n",
       "    }\n",
       "</style>\n",
       "<table border=\"1\" class=\"dataframe\">\n",
       "  <thead>\n",
       "    <tr style=\"text-align: right;\">\n",
       "      <th></th>\n",
       "      <th>id</th>\n",
       "      <th>花萼長度</th>\n",
       "      <th>花萼寬度</th>\n",
       "      <th>花瓣長度</th>\n",
       "      <th>花瓣寬度</th>\n",
       "      <th>屬種</th>\n",
       "      <th>type</th>\n",
       "    </tr>\n",
       "  </thead>\n",
       "  <tbody>\n",
       "    <tr>\n",
       "      <th>121</th>\n",
       "      <td>122</td>\n",
       "      <td>5.2</td>\n",
       "      <td>NaN</td>\n",
       "      <td>5.1</td>\n",
       "      <td>1.8</td>\n",
       "      <td>Iris-new_type</td>\n",
       "      <td>4</td>\n",
       "    </tr>\n",
       "  </tbody>\n",
       "</table>\n",
       "</div>"
      ],
      "text/plain": [
       "      id  花萼長度  花萼寬度  花瓣長度  花瓣寬度             屬種  type\n",
       "121  122   5.2   NaN   5.1   1.8  Iris-new_type     4"
      ]
     },
     "execution_count": 7,
     "metadata": {},
     "output_type": "execute_result"
    }
   ],
   "source": [
    "#查詢空值\n",
    "train[train['花萼寬度'].isnull()]"
   ]
  },
  {
   "cell_type": "code",
   "execution_count": 8,
   "metadata": {},
   "outputs": [
    {
     "data": {
      "text/html": [
       "<div>\n",
       "<style scoped>\n",
       "    .dataframe tbody tr th:only-of-type {\n",
       "        vertical-align: middle;\n",
       "    }\n",
       "\n",
       "    .dataframe tbody tr th {\n",
       "        vertical-align: top;\n",
       "    }\n",
       "\n",
       "    .dataframe thead th {\n",
       "        text-align: right;\n",
       "    }\n",
       "</style>\n",
       "<table border=\"1\" class=\"dataframe\">\n",
       "  <thead>\n",
       "    <tr style=\"text-align: right;\">\n",
       "      <th></th>\n",
       "      <th>id</th>\n",
       "      <th>花萼長度</th>\n",
       "      <th>花萼寬度</th>\n",
       "      <th>花瓣長度</th>\n",
       "      <th>花瓣寬度</th>\n",
       "      <th>屬種</th>\n",
       "      <th>type</th>\n",
       "    </tr>\n",
       "  </thead>\n",
       "  <tbody>\n",
       "    <tr>\n",
       "      <th>120</th>\n",
       "      <td>121</td>\n",
       "      <td>NaN</td>\n",
       "      <td>3.0</td>\n",
       "      <td>4.9</td>\n",
       "      <td>1.2</td>\n",
       "      <td>Iris-new_type</td>\n",
       "      <td>4</td>\n",
       "    </tr>\n",
       "  </tbody>\n",
       "</table>\n",
       "</div>"
      ],
      "text/plain": [
       "      id  花萼長度  花萼寬度  花瓣長度  花瓣寬度             屬種  type\n",
       "120  121   NaN   3.0   4.9   1.2  Iris-new_type     4"
      ]
     },
     "execution_count": 8,
     "metadata": {},
     "output_type": "execute_result"
    }
   ],
   "source": [
    "train[train['花萼長度'].isnull()]"
   ]
  },
  {
   "cell_type": "code",
   "execution_count": 9,
   "metadata": {},
   "outputs": [
    {
     "data": {
      "text/plain": [
       "3"
      ]
     },
     "execution_count": 9,
     "metadata": {},
     "output_type": "execute_result"
    }
   ],
   "source": [
    "#空值所屬類別只有三筆資料，故不選擇刪除\n",
    "train[train['type'] == 4].shape[0]"
   ]
  },
  {
   "cell_type": "code",
   "execution_count": 10,
   "metadata": {},
   "outputs": [],
   "source": [
    "#補平均數\n",
    "train[['花萼寬度']] = train[['花萼寬度']].fillna(np.mean(train[['花萼寬度']]))\n",
    "train[['花萼長度']] = train[['花萼長度']].fillna(np.mean(train[['花萼長度']]))"
   ]
  },
  {
   "cell_type": "code",
   "execution_count": 11,
   "metadata": {},
   "outputs": [
    {
     "data": {
      "text/plain": [
       "array([[<matplotlib.axes._subplots.AxesSubplot object at 0x7f72915829b0>,\n",
       "        <matplotlib.axes._subplots.AxesSubplot object at 0x7f728f54bd68>,\n",
       "        <matplotlib.axes._subplots.AxesSubplot object at 0x7f728f56b3c8>,\n",
       "        <matplotlib.axes._subplots.AxesSubplot object at 0x7f728f501a58>],\n",
       "       [<matplotlib.axes._subplots.AxesSubplot object at 0x7f728f520128>,\n",
       "        <matplotlib.axes._subplots.AxesSubplot object at 0x7f728f4b87b8>,\n",
       "        <matplotlib.axes._subplots.AxesSubplot object at 0x7f728f4d0e48>,\n",
       "        <matplotlib.axes._subplots.AxesSubplot object at 0x7f728f4ec518>],\n",
       "       [<matplotlib.axes._subplots.AxesSubplot object at 0x7f728f484ba8>,\n",
       "        <matplotlib.axes._subplots.AxesSubplot object at 0x7f728f4a3278>,\n",
       "        <matplotlib.axes._subplots.AxesSubplot object at 0x7f728f43b908>,\n",
       "        <matplotlib.axes._subplots.AxesSubplot object at 0x7f728f453f98>],\n",
       "       [<matplotlib.axes._subplots.AxesSubplot object at 0x7f728f472630>,\n",
       "        <matplotlib.axes._subplots.AxesSubplot object at 0x7f728f40acc0>,\n",
       "        <matplotlib.axes._subplots.AxesSubplot object at 0x7f728f42a390>,\n",
       "        <matplotlib.axes._subplots.AxesSubplot object at 0x7f728f3c1a20>]],\n",
       "      dtype=object)"
      ]
     },
     "execution_count": 11,
     "metadata": {},
     "output_type": "execute_result"
    },
    {
     "data": {
      "image/png": "[encoded data removed]",
      "text/plain": [
       "<Figure size 720x720 with 16 Axes>"
      ]
     },
     "metadata": {},
     "output_type": "display_data"
    }
   ],
   "source": [
    "#畫出各維度相關性\n",
    "from pandas.plotting import scatter_matrix\n",
    "scatter_matrix( train[['花瓣寬度','花瓣長度','花萼寬度','花萼長度']],figsize=(10, 10),color='b')"
   ]
  },
  {
   "cell_type": "markdown",
   "metadata": {},
   "source": [
    "# 分析相關係數\n",
    "得知除了花萼寬度外其他的相關性都很高"
   ]
  },
  {
   "cell_type": "code",
   "execution_count": 12,
   "metadata": {},
   "outputs": [
    {
     "name": "stdout",
     "output_type": "stream",
     "text": [
      "          花瓣寬度      花瓣長度      花萼寬度      花萼長度\n",
      "花瓣寬度  1.000000  0.958595 -0.367957  0.813901\n",
      "花瓣長度  0.958595  1.000000 -0.436213  0.860308\n",
      "花萼寬度 -0.367957 -0.436213  1.000000 -0.131922\n",
      "花萼長度  0.813901  0.860308 -0.131922  1.000000\n"
     ]
    }
   ],
   "source": [
    "corr = train[['花瓣寬度','花瓣長度','花萼寬度','花萼長度']].corr()\n",
    "print(corr)"
   ]
  },
  {
   "cell_type": "code",
   "execution_count": 13,
   "metadata": {},
   "outputs": [
    {
     "name": "stderr",
     "output_type": "stream",
     "text": [
      "/home/vkmouse/.local/lib/python3.5/site-packages/matplotlib/font_manager.py:1328: UserWarning: findfont: Font family ['DFKai-SB'] not found. Falling back to DejaVu Sans\n",
      "  (prop.get_family(), self.defaultFamily[fontext]))\n"
     ]
    },
    {
     "data": {
      "text/plain": [
       "<matplotlib.axes._subplots.AxesSubplot at 0x7f72817204a8>"
      ]
     },
     "execution_count": 13,
     "metadata": {},
     "output_type": "execute_result"
    },
    {
     "data": {
      "image/png": "[encoded data removed]",
      "text/plain": [
       "<Figure size 720x720 with 2 Axes>"
      ]
     },
     "metadata": {},
     "output_type": "display_data"
    }
   ],
   "source": [
    "#視覺化呈現\n",
    "import seaborn as sns\n",
    "plt.rcParams['font.family']='DFKai-SB' #顯示中文\n",
    "plt.figure(figsize=(10,10))\n",
    "sns.heatmap(corr, square=True, annot=True, cmap=\"RdBu_r\") #center=0, cmap=\"YlGnBu\""
   ]
  },
  {
   "cell_type": "markdown",
   "metadata": {},
   "source": [
    "# 分析離群直\n",
    "花萼寬度有離群直\n",
    "http://blog.xuite.net/jillrong/Rlanguage/159045996-%E6%89%BE%E5%87%BAoutlier%28s%29%2F%E9%9B%A2%E7%BE%A4%E5%80%BC%2F%E6%A5%B5%E7%AB%AF%E5%80%BC-+cont.\n",
    "3. Boxplot\n",
    "   盒子中間水平線為median\n",
    "   盒子兩端，下水平線Q1為25 quartile，上水平線Q3為75 quartile，\n",
    "   interquartile range (IQR) = Q3 − Q1\n",
    "   盒子兩端延伸出去的虛線是Q1 − 1.5 x IQR 或 Q3 + 1.5 x IQR\n",
    "   至於outlier是指在 boxplot 中各別顯示的點，\n",
    "   落在Q1 − 1.5 x IQR 下方 或 高於 Q3 + 1.5 x IQR 上方"
   ]
  },
  {
   "cell_type": "code",
   "execution_count": 14,
   "metadata": {},
   "outputs": [
    {
     "data": {
      "text/plain": [
       "Text(0.5,1,'測:花萼長度')"
      ]
     },
     "execution_count": 14,
     "metadata": {},
     "output_type": "execute_result"
    },
    {
     "name": "stderr",
     "output_type": "stream",
     "text": [
      "/home/vkmouse/.local/lib/python3.5/site-packages/matplotlib/font_manager.py:1328: UserWarning: findfont: Font family ['DFKai-SB'] not found. Falling back to DejaVu Sans\n",
      "  (prop.get_family(), self.defaultFamily[fontext]))\n"
     ]
    },
    {
     "data": {
      "image/png": "[encoded data removed]",
      "text/plain": [
       "<Figure size 720x720 with 8 Axes>"
      ]
     },
     "metadata": {},
     "output_type": "display_data"
    }
   ],
   "source": [
    "fig, axes = plt.subplots(nrows=2, ncols=4, figsize=(10, 10), sharey=True)\n",
    "\n",
    "axes[0, 0].boxplot(train['花萼寬度'],showmeans=True)\n",
    "axes[0, 0].set_title('訓:花萼寬度')\n",
    "\n",
    "axes[0, 1].boxplot(train['花瓣寬度'],showmeans=True)\n",
    "axes[0, 1].set_title('訓:花瓣寬度')\n",
    "\n",
    "axes[0, 2].boxplot(train['花瓣長度'],showmeans=True)\n",
    "axes[0, 2].set_title('訓:花瓣長度')\n",
    "\n",
    "axes[0, 3].boxplot(train['花萼長度'],showmeans=True)\n",
    "axes[0, 3].set_title('訓:花萼長度')\n",
    "\n",
    "axes[1, 0].boxplot(test['花萼寬度'],showmeans=True)\n",
    "axes[1, 0].set_title('測:花萼寬度')\n",
    "\n",
    "axes[1, 1].boxplot(test['花瓣寬度'],showmeans=True)\n",
    "axes[1, 1].set_title('測:花瓣寬度')\n",
    "\n",
    "axes[1, 2].boxplot(test['花瓣長度'],showmeans=True)\n",
    "axes[1, 2].set_title('測:花瓣長度')\n",
    "\n",
    "axes[1, 3].boxplot(test['花萼長度'],showmeans=True)\n",
    "axes[1, 3].set_title('測:花萼長度')"
   ]
  },
  {
   "cell_type": "code",
   "execution_count": 15,
   "metadata": {},
   "outputs": [],
   "source": [
    "#IQR = Q3-Q1\n",
    "IQR = np.percentile(train['花萼寬度'],75) - np.percentile(train['花萼寬度'],25)"
   ]
  },
  {
   "cell_type": "code",
   "execution_count": 16,
   "metadata": {},
   "outputs": [
    {
     "data": {
      "text/html": [
       "<div>\n",
       "<style scoped>\n",
       "    .dataframe tbody tr th:only-of-type {\n",
       "        vertical-align: middle;\n",
       "    }\n",
       "\n",
       "    .dataframe tbody tr th {\n",
       "        vertical-align: top;\n",
       "    }\n",
       "\n",
       "    .dataframe thead th {\n",
       "        text-align: right;\n",
       "    }\n",
       "</style>\n",
       "<table border=\"1\" class=\"dataframe\">\n",
       "  <thead>\n",
       "    <tr style=\"text-align: right;\">\n",
       "      <th></th>\n",
       "      <th>id</th>\n",
       "      <th>花萼長度</th>\n",
       "      <th>花萼寬度</th>\n",
       "      <th>花瓣長度</th>\n",
       "      <th>花瓣寬度</th>\n",
       "      <th>屬種</th>\n",
       "      <th>type</th>\n",
       "    </tr>\n",
       "  </thead>\n",
       "  <tbody>\n",
       "    <tr>\n",
       "      <th>5</th>\n",
       "      <td>6</td>\n",
       "      <td>5.7</td>\n",
       "      <td>4.4</td>\n",
       "      <td>1.5</td>\n",
       "      <td>0.4</td>\n",
       "      <td>Iris-setosa</td>\n",
       "      <td>1</td>\n",
       "    </tr>\n",
       "    <tr>\n",
       "      <th>22</th>\n",
       "      <td>23</td>\n",
       "      <td>5.2</td>\n",
       "      <td>4.1</td>\n",
       "      <td>1.5</td>\n",
       "      <td>0.1</td>\n",
       "      <td>Iris-setosa</td>\n",
       "      <td>1</td>\n",
       "    </tr>\n",
       "    <tr>\n",
       "      <th>23</th>\n",
       "      <td>24</td>\n",
       "      <td>5.5</td>\n",
       "      <td>4.2</td>\n",
       "      <td>1.4</td>\n",
       "      <td>0.2</td>\n",
       "      <td>Iris-setosa</td>\n",
       "      <td>1</td>\n",
       "    </tr>\n",
       "  </tbody>\n",
       "</table>\n",
       "</div>"
      ],
      "text/plain": [
       "    id  花萼長度  花萼寬度  花瓣長度  花瓣寬度           屬種  type\n",
       "5    6   5.7   4.4   1.5   0.4  Iris-setosa     1\n",
       "22  23   5.2   4.1   1.5   0.1  Iris-setosa     1\n",
       "23  24   5.5   4.2   1.4   0.2  Iris-setosa     1"
      ]
     },
     "execution_count": 16,
     "metadata": {},
     "output_type": "execute_result"
    }
   ],
   "source": [
    "#outlier = Q3 + 1.5*IQR , or. Q1 - 1.5*IQR\n",
    "train[train['花萼寬度'] > np.percentile(train['花萼寬度'],75)+1.5*IQR]"
   ]
  },
  {
   "cell_type": "code",
   "execution_count": 17,
   "metadata": {},
   "outputs": [
    {
     "data": {
      "text/html": [
       "<div>\n",
       "<style scoped>\n",
       "    .dataframe tbody tr th:only-of-type {\n",
       "        vertical-align: middle;\n",
       "    }\n",
       "\n",
       "    .dataframe tbody tr th {\n",
       "        vertical-align: top;\n",
       "    }\n",
       "\n",
       "    .dataframe thead th {\n",
       "        text-align: right;\n",
       "    }\n",
       "</style>\n",
       "<table border=\"1\" class=\"dataframe\">\n",
       "  <thead>\n",
       "    <tr style=\"text-align: right;\">\n",
       "      <th></th>\n",
       "      <th>id</th>\n",
       "      <th>花萼長度</th>\n",
       "      <th>花萼寬度</th>\n",
       "      <th>花瓣長度</th>\n",
       "      <th>花瓣寬度</th>\n",
       "      <th>屬種</th>\n",
       "      <th>type</th>\n",
       "    </tr>\n",
       "  </thead>\n",
       "  <tbody>\n",
       "    <tr>\n",
       "      <th>40</th>\n",
       "      <td>41</td>\n",
       "      <td>5.0</td>\n",
       "      <td>2.0</td>\n",
       "      <td>3.5</td>\n",
       "      <td>1.0</td>\n",
       "      <td>Iris-versicolor</td>\n",
       "      <td>2</td>\n",
       "    </tr>\n",
       "  </tbody>\n",
       "</table>\n",
       "</div>"
      ],
      "text/plain": [
       "    id  花萼長度  花萼寬度  花瓣長度  花瓣寬度               屬種  type\n",
       "40  41   5.0   2.0   3.5   1.0  Iris-versicolor     2"
      ]
     },
     "execution_count": 17,
     "metadata": {},
     "output_type": "execute_result"
    }
   ],
   "source": [
    "#outlier = Q3 + 1.5*IQR , or. Q1 - 1.5*IQR\n",
    "train[train['花萼寬度'] < np.percentile(train['花萼寬度'],25)-1.5*IQR]"
   ]
  },
  {
   "cell_type": "markdown",
   "metadata": {},
   "source": [
    "# 實際進行分類"
   ]
  },
  {
   "cell_type": "markdown",
   "metadata": {},
   "source": [
    "## 分割資料+正規化"
   ]
  },
  {
   "cell_type": "code",
   "execution_count": 18,
   "metadata": {},
   "outputs": [],
   "source": [
    "train = train[train['type']!=4]\n",
    "\n",
    "from sklearn.model_selection import train_test_split\n",
    "X = train[['花瓣寬度','花瓣長度','花萼寬度','花萼長度']]\n",
    "y = train['type']\n",
    "\n",
    "# 所有資料一起正規化\n",
    "from sklearn import preprocessing\n",
    "tmp = X.append(test[['花瓣寬度','花瓣長度','花萼寬度','花萼長度']])\n",
    "tmp = preprocessing.scale(tmp, axis=0)\n",
    "X = tmp[0:120]\n",
    "\n",
    "X_train, X_test, y_train, y_test = train_test_split(X, y, test_size = 0.3, random_state=100)"
   ]
  },
  {
   "cell_type": "code",
   "execution_count": 19,
   "metadata": {},
   "outputs": [
    {
     "data": {
      "text/plain": [
       "(120, 4)"
      ]
     },
     "execution_count": 19,
     "metadata": {},
     "output_type": "execute_result"
    }
   ],
   "source": [
    "X.shape"
   ]
  },
  {
   "cell_type": "markdown",
   "metadata": {},
   "source": [
    "# 訂定分類模型SVM\n",
    "C是模型的複雜度越小越複雜、\n",
    "linear是只線性的svm分類器"
   ]
  },
  {
   "cell_type": "code",
   "execution_count": 29,
   "metadata": {},
   "outputs": [
    {
     "name": "stdout",
     "output_type": "stream",
     "text": [
      "             precision    recall  f1-score   support\n",
      "\n",
      "          1       1.00      1.00      1.00        14\n",
      "          2       1.00      0.90      0.95        10\n",
      "          3       0.92      1.00      0.96        12\n",
      "\n",
      "avg / total       0.97      0.97      0.97        36\n",
      "\n",
      "[[14  0  0]\n",
      " [ 0  9  1]\n",
      " [ 0  0 12]]\n"
     ]
    }
   ],
   "source": [
    "from sklearn import metrics\n",
    "from sklearn.svm import SVC\n",
    "\n",
    "svc = SVC(C=1, kernel=\"linear\", probability=True)\n",
    "svc.fit(X_train, y_train)\n",
    "\n",
    "print(metrics.classification_report(y_test, svc.predict(X_test)))\n",
    "print(metrics.confusion_matrix(y_test, svc.predict(X_test)))"
   ]
  },
  {
   "cell_type": "code",
   "execution_count": 52,
   "metadata": {},
   "outputs": [],
   "source": [
    "pred = svc.predict(tmp[120:150])"
   ]
  },
  {
   "cell_type": "code",
   "execution_count": 54,
   "metadata": {},
   "outputs": [],
   "source": [
    "submission.id\n",
    "pred\n",
    "pd.DataFrame({ 'id': submission.id, 'type':pred })\n",
    "StackingSubmission = pd.DataFrame({ 'id': submission.id, 'type': pred })\n",
    "StackingSubmission.to_csv(\"Data/submission.csv\", index=False)"
   ]
  },
  {
   "cell_type": "code",
   "execution_count": 56,
   "metadata": {},
   "outputs": [
    {
     "data": {
      "text/html": [
       "<div>\n",
       "<style scoped>\n",
       "    .dataframe tbody tr th:only-of-type {\n",
       "        vertical-align: middle;\n",
       "    }\n",
       "\n",
       "    .dataframe tbody tr th {\n",
       "        vertical-align: top;\n",
       "    }\n",
       "\n",
       "    .dataframe thead th {\n",
       "        text-align: right;\n",
       "    }\n",
       "</style>\n",
       "<table border=\"1\" class=\"dataframe\">\n",
       "  <thead>\n",
       "    <tr style=\"text-align: right;\">\n",
       "      <th></th>\n",
       "      <th>id</th>\n",
       "      <th>type</th>\n",
       "    </tr>\n",
       "  </thead>\n",
       "  <tbody>\n",
       "    <tr>\n",
       "      <th>0</th>\n",
       "      <td>1</td>\n",
       "      <td>1</td>\n",
       "    </tr>\n",
       "    <tr>\n",
       "      <th>1</th>\n",
       "      <td>2</td>\n",
       "      <td>1</td>\n",
       "    </tr>\n",
       "    <tr>\n",
       "      <th>2</th>\n",
       "      <td>3</td>\n",
       "      <td>1</td>\n",
       "    </tr>\n",
       "    <tr>\n",
       "      <th>3</th>\n",
       "      <td>4</td>\n",
       "      <td>1</td>\n",
       "    </tr>\n",
       "    <tr>\n",
       "      <th>4</th>\n",
       "      <td>5</td>\n",
       "      <td>1</td>\n",
       "    </tr>\n",
       "    <tr>\n",
       "      <th>5</th>\n",
       "      <td>6</td>\n",
       "      <td>1</td>\n",
       "    </tr>\n",
       "    <tr>\n",
       "      <th>6</th>\n",
       "      <td>7</td>\n",
       "      <td>1</td>\n",
       "    </tr>\n",
       "    <tr>\n",
       "      <th>7</th>\n",
       "      <td>8</td>\n",
       "      <td>1</td>\n",
       "    </tr>\n",
       "    <tr>\n",
       "      <th>8</th>\n",
       "      <td>9</td>\n",
       "      <td>1</td>\n",
       "    </tr>\n",
       "    <tr>\n",
       "      <th>9</th>\n",
       "      <td>10</td>\n",
       "      <td>1</td>\n",
       "    </tr>\n",
       "    <tr>\n",
       "      <th>10</th>\n",
       "      <td>11</td>\n",
       "      <td>2</td>\n",
       "    </tr>\n",
       "    <tr>\n",
       "      <th>11</th>\n",
       "      <td>12</td>\n",
       "      <td>2</td>\n",
       "    </tr>\n",
       "    <tr>\n",
       "      <th>12</th>\n",
       "      <td>13</td>\n",
       "      <td>2</td>\n",
       "    </tr>\n",
       "    <tr>\n",
       "      <th>13</th>\n",
       "      <td>14</td>\n",
       "      <td>2</td>\n",
       "    </tr>\n",
       "    <tr>\n",
       "      <th>14</th>\n",
       "      <td>15</td>\n",
       "      <td>2</td>\n",
       "    </tr>\n",
       "    <tr>\n",
       "      <th>15</th>\n",
       "      <td>16</td>\n",
       "      <td>2</td>\n",
       "    </tr>\n",
       "    <tr>\n",
       "      <th>16</th>\n",
       "      <td>17</td>\n",
       "      <td>2</td>\n",
       "    </tr>\n",
       "    <tr>\n",
       "      <th>17</th>\n",
       "      <td>18</td>\n",
       "      <td>2</td>\n",
       "    </tr>\n",
       "    <tr>\n",
       "      <th>18</th>\n",
       "      <td>19</td>\n",
       "      <td>2</td>\n",
       "    </tr>\n",
       "    <tr>\n",
       "      <th>19</th>\n",
       "      <td>20</td>\n",
       "      <td>2</td>\n",
       "    </tr>\n",
       "    <tr>\n",
       "      <th>20</th>\n",
       "      <td>21</td>\n",
       "      <td>3</td>\n",
       "    </tr>\n",
       "    <tr>\n",
       "      <th>21</th>\n",
       "      <td>22</td>\n",
       "      <td>3</td>\n",
       "    </tr>\n",
       "    <tr>\n",
       "      <th>22</th>\n",
       "      <td>23</td>\n",
       "      <td>3</td>\n",
       "    </tr>\n",
       "    <tr>\n",
       "      <th>23</th>\n",
       "      <td>24</td>\n",
       "      <td>3</td>\n",
       "    </tr>\n",
       "    <tr>\n",
       "      <th>24</th>\n",
       "      <td>25</td>\n",
       "      <td>3</td>\n",
       "    </tr>\n",
       "    <tr>\n",
       "      <th>25</th>\n",
       "      <td>26</td>\n",
       "      <td>3</td>\n",
       "    </tr>\n",
       "    <tr>\n",
       "      <th>26</th>\n",
       "      <td>27</td>\n",
       "      <td>3</td>\n",
       "    </tr>\n",
       "    <tr>\n",
       "      <th>27</th>\n",
       "      <td>28</td>\n",
       "      <td>3</td>\n",
       "    </tr>\n",
       "    <tr>\n",
       "      <th>28</th>\n",
       "      <td>29</td>\n",
       "      <td>3</td>\n",
       "    </tr>\n",
       "    <tr>\n",
       "      <th>29</th>\n",
       "      <td>30</td>\n",
       "      <td>3</td>\n",
       "    </tr>\n",
       "  </tbody>\n",
       "</table>\n",
       "</div>"
      ],
      "text/plain": [
       "    id  type\n",
       "0    1     1\n",
       "1    2     1\n",
       "2    3     1\n",
       "3    4     1\n",
       "4    5     1\n",
       "5    6     1\n",
       "6    7     1\n",
       "7    8     1\n",
       "8    9     1\n",
       "9   10     1\n",
       "10  11     2\n",
       "11  12     2\n",
       "12  13     2\n",
       "13  14     2\n",
       "14  15     2\n",
       "15  16     2\n",
       "16  17     2\n",
       "17  18     2\n",
       "18  19     2\n",
       "19  20     2\n",
       "20  21     3\n",
       "21  22     3\n",
       "22  23     3\n",
       "23  24     3\n",
       "24  25     3\n",
       "25  26     3\n",
       "26  27     3\n",
       "27  28     3\n",
       "28  29     3\n",
       "29  30     3"
      ]
     },
     "execution_count": 56,
     "metadata": {},
     "output_type": "execute_result"
    }
   ],
   "source": [
    "submission = pd.read_csv('Data/submission.csv', encoding = \"utf-8\", dtype = {'type': np.int32})\n",
    "submission"
   ]
  },
  {
   "cell_type": "code",
   "execution_count": null,
   "metadata": {},
   "outputs": [],
   "source": []
  }
 ],
 "metadata": {
  "kernelspec": {
   "display_name": "Python 3",
   "language": "python",
   "name": "python3"
  },
  "language_info": {
   "codemirror_mode": {
    "name": "ipython",
    "version": 3
   },
   "file_extension": ".py",
   "mimetype": "text/x-python",
   "name": "python",
   "nbconvert_exporter": "python",
   "pygments_lexer": "ipython3",
   "version": "3.5.2"
  }
 },
 "nbformat": 4,
 "nbformat_minor": 2
}
